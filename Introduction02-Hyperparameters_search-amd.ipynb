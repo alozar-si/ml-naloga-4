{
 "cells": [
  {
   "cell_type": "code",
   "execution_count": 1,
   "metadata": {},
   "outputs": [
    {
     "name": "stderr",
     "output_type": "stream",
     "text": [
      "Using plaidml.keras.backend backend.\n"
     ]
    }
   ],
   "source": [
    "from scipy.integrate import ode\n",
    "import matplotlib.pyplot as plt\n",
    "import numpy as np\n",
    "import os\n",
    "os.environ[\"KERAS_BACKEND\"] = \"plaidml.keras.backend\"\n",
    "import keras\n",
    "from keras import layers, initializers\n",
    "from sklearn.preprocessing import MinMaxScaler\n",
    "from time import time\n",
    "from os import path"
   ]
  },
  {
   "cell_type": "code",
   "execution_count": 2,
   "metadata": {},
   "outputs": [],
   "source": [
    "#from tensorflow.keras.layers import Dense, Dropout\n",
    "from keras.layers import Dense, Dropout\n",
    "#Ustvarimo funkcijo, ki vrača kompajlan model\n",
    "def create_model(activation='sigmoid', optimizer='adam', dropout=0):\n",
    "    \n",
    "    model = keras.models.Sequential()\n",
    "    model.add(Dense(3, input_dim=3, activation=activation))\n",
    "    model.add(Dense(81, activation=activation))\n",
    "    if dropout: model.add(Dropout(0.2))\n",
    "    model.add(Dense(81, activation=activation))\n",
    "    if dropout: model.add(Dropout(0.2))\n",
    "    model.add(Dense(81, activation=activation))\n",
    "    if dropout: model.add(Dropout(0.2))\n",
    "    model.add(Dense(81, activation=activation))\n",
    "    if dropout: model.add(Dropout(0.2))\n",
    "    model.add(Dense(3, activation='sigmoid'))\n",
    "\n",
    "    model.compile(loss='mean_absolute_error', optimizer=optimizer, metrics=['mae'])\n",
    "\n",
    "    return model"
   ]
  },
  {
   "cell_type": "code",
   "execution_count": 3,
   "metadata": {},
   "outputs": [],
   "source": [
    "from sklearn.model_selection import KFold"
   ]
  },
  {
   "cell_type": "code",
   "execution_count": 4,
   "metadata": {},
   "outputs": [
    {
     "name": "stdout",
     "output_type": "stream",
     "text": [
      "Data exist.\n",
      "Data loaded.\n"
     ]
    }
   ],
   "source": [
    "if(path.exists(\"data/data-2.npy\") != 1):\n",
    "    print(\"Generating data.\")\n",
    "    n = int(tmax/dt) + 1\n",
    "    data = np.zeros((n, 3))\n",
    "\n",
    "    i = 0\n",
    "    start = time()\n",
    "    while t < tmax:\n",
    "        y_ATM = solver_ATM.integrate(t+dt)\n",
    "        #y0_MOD = solver_MOD.integrate(t+dt)\n",
    "        data[i, :] = y_ATM[:]\n",
    "        i = i + 1\n",
    "        t += dt\n",
    "    print(\"Elasped time: %0.3g s\" %(time()-start))\n",
    "    data = data[1000:] # only use data from the attractor (after time = 10000 * dt)\n",
    "    print(\"Integration finished.\")\n",
    "    np.save(\"data/data-2.npy\", data)\n",
    "    \n",
    "else:\n",
    "    print(\"Data exist.\")\n",
    "    data = np.load(\"data/data-2.npy\")\n",
    "    print(\"Data loaded.\")\n",
    "    \n",
    "#PREPROCESS DATA\n",
    "x_train = data[:-1,:]\n",
    "y_train = data[1:, :] - data[:-1, :]\n",
    "\n",
    "x_scaler=MinMaxScaler()\n",
    "y_scaler=MinMaxScaler()\n",
    "\n",
    "x_scaler.fit(x_train)\n",
    "y_scaler.fit(y_train)\n",
    "\n",
    "x_train_norm=x_scaler.transform(x_train)\n",
    "y_train_norm=y_scaler.transform(y_train)\n",
    "\n",
    "xy_train_norm=np.concatenate((x_train_norm,y_train_norm), axis=1)\n",
    "\n",
    "new_order=np.random.choice(range(x_train.shape[0]),x_train.shape[0],replace=False)\n",
    "x_train_norm=x_train_norm[new_order]\n",
    "y_train_norm=y_train_norm[new_order]"
   ]
  },
  {
   "cell_type": "code",
   "execution_count": 5,
   "metadata": {},
   "outputs": [
    {
     "data": {
      "text/plain": [
       "999000"
      ]
     },
     "execution_count": 5,
     "metadata": {},
     "output_type": "execute_result"
    }
   ],
   "source": [
    "X = x_train_norm\n",
    "Y = y_train_norm\n",
    "len(X)"
   ]
  },
  {
   "cell_type": "code",
   "execution_count": null,
   "metadata": {},
   "outputs": [
    {
     "name": "stderr",
     "output_type": "stream",
     "text": [
      "INFO:plaidml:Opening device \"opencl_amd_gfx1010.0\"\n"
     ]
    }
   ],
   "source": [
    "\n",
    "\n",
    "num_folds = 3 # dolocimo st. foldov\n",
    "kf = KFold(n_splits=num_folds, shuffle=True) # razred za razdelitev podatkov\n",
    "\n",
    "fold_no = 1\n",
    "scores_per_fold = []\n",
    "verbose=2\n",
    "losses = []\n",
    "\n",
    "# ce nasa Loss ne vec pade se ustavi minimizacija\n",
    "callback = keras.callbacks.EarlyStopping(monitor='loss', patience=20, verbose=0, mode='min') \n",
    "#ce dosezemo plato zmanjsamo korak ucenja\n",
    "reduce_lr = keras.callbacks.ReduceLROnPlateau(monitor='loss', factor=0.9, patience=5, min_lr=0.0001)\n",
    "\n",
    "    \n",
    "for train, test in kf.split(X[:len(X)], Y[:len(Y)]): #zanka cez vse usne ter testne sete\n",
    "    modelCV = create_model(dropout=1)\n",
    "    start=time()\n",
    "    history = modelCV.fit(X[train], Y[train], epochs=100, batch_size=262144, verbose=verbose,\n",
    "                          callbacks=[callback,reduce_lr])\n",
    "    print(\"Trained in %0.3g\" %(time()-start))\n",
    "    # na fitanem modelu izvrednotimo mere uspesnosti\n",
    "    # mere uspesnosti bi lahko spremljali ze tekom ucenja, znotraj metode fit\n",
    "    scores = modelCV.evaluate(X[test], Y[test], verbose=verbose)\n",
    "    print(f'Score per fold {fold_no}: {modelCV.metrics_names} of {scores}')\n",
    "    scores_per_fold.append(scores)\n",
    "    \n",
    "    losses.append(history.history['loss'])\n",
    "    fold_no += 1"
   ]
  },
  {
   "cell_type": "code",
   "execution_count": 8,
   "metadata": {},
   "outputs": [
    {
     "data": {
      "image/png": "[encoded data removed]",
      "text/plain": [
       "<Figure size 540x324 with 1 Axes>"
      ]
     },
     "metadata": {
      "needs_background": "light"
     },
     "output_type": "display_data"
    }
   ],
   "source": [
    "plt.figure(figsize=(7.5, 4.5))\n",
    "colors=['k','r','b']\n",
    "for i in range(3):\n",
    "    plt.plot(losses[i][:], c=colors[i])\n",
    "\n",
    "plt.xlabel('epoch')\n",
    "plt.ylabel('Loss')\n",
    "plt.tight_layout()\n",
    "#plt.ylim([0, 0.005])\n",
    "plt.yscale('log')\n",
    "plt.show()"
   ]
  },
  {
   "cell_type": "code",
   "execution_count": 6,
   "metadata": {},
   "outputs": [],
   "source": [
    "from sklearn.model_selection import GridSearchCV\n",
    "from keras.wrappers.scikit_learn import KerasRegressor # Wrapper za Keras model v sklearn\n",
    "\n",
    "modelGS = KerasRegressor(build_fn=create_model, verbose=2) #ustvarimo model\n",
    "#veljavni argumenti so argumenti funkcije create_model ter metode fit za Keras model\n",
    "\n",
    "# najprej dolocimo optimalen batch_size ter stevilo epoh\n",
    "# uspesnot modela ovrednotimo na vseh kombinacijah parametrov\n",
    "batch_size = [262144]#, 512] # vrednosti, ki jih preverimo\n",
    "epochs = [30, 80]\n",
    "activation=['relu', 'sigmoid']\n",
    "optimizer = ['SGD', 'adam', 'RMSprop']\n",
    "\n",
    "# ustvarimo slovar kjer so kljuci imena parametrov\n",
    "param_grid = dict(optimizer=optimizer, activation=activation, batch_size=batch_size, epochs=epochs)\n",
    "\n",
    "#ustvarimo objekt z iskanje na mrezi\n",
    "# specificiramo katero mero uspesnosti gledamo, default je loss funkcija\n",
    "grid = GridSearchCV(estimator=modelGS, param_grid=param_grid, n_jobs=-1, cv=3, scoring='neg_mean_squared_error', verbose=2)\n"
   ]
  },
  {
   "cell_type": "code",
   "execution_count": null,
   "metadata": {},
   "outputs": [
    {
     "name": "stdout",
     "output_type": "stream",
     "text": [
      "Fitting 3 folds for each of 12 candidates, totalling 36 fits\n"
     ]
    },
    {
     "name": "stderr",
     "output_type": "stream",
     "text": [
      "[Parallel(n_jobs=-1)]: Using backend LokyBackend with 12 concurrent workers.\n"
     ]
    }
   ],
   "source": [
    "grid.fit(X[:len(X)], Y[:len(X)])"
   ]
  },
  {
   "cell_type": "code",
   "execution_count": 11,
   "metadata": {},
   "outputs": [
    {
     "name": "stdout",
     "output_type": "stream",
     "text": [
      "Best: -0.000002 using {'activation': 'relu', 'batch_size': 1024, 'epochs': 100, 'optimizer': 'adam'}\n",
      "-0.000002 (0.000002) with : {'activation': 'relu', 'batch_size': 1024, 'epochs': 100, 'optimizer': 'adam'}\n",
      "-0.000011 (0.000003) with : {'activation': 'sigmoid', 'batch_size': 1024, 'epochs': 100, 'optimizer': 'adam'}\n"
     ]
    }
   ],
   "source": [
    "print(\"Best: %f using %s\" %(grid.best_score_, grid.best_params_))\n",
    "# pogledamo se rezultate v ostalih tockah\n",
    "means = grid.cv_results_['mean_test_score']\n",
    "stds = grid.cv_results_['std_test_score']\n",
    "params = grid.cv_results_['params']\n",
    "for mean, stdev, param in zip(means, stds, params):\n",
    "    print('%f (%f) with : %r' %(mean, stdev, param))"
   ]
  },
  {
   "cell_type": "code",
   "execution_count": null,
   "metadata": {},
   "outputs": [],
   "source": []
  }
 ],
 "metadata": {
  "kernelspec": {
   "display_name": "Python 3",
   "language": "python",
   "name": "python3"
  },
  "language_info": {
   "codemirror_mode": {
    "name": "ipython",
    "version": 3
   },
   "file_extension": ".py",
   "mimetype": "text/x-python",
   "name": "python",
   "nbconvert_exporter": "python",
   "pygments_lexer": "ipython3",
   "version": "3.7.6"
  }
 },
 "nbformat": 4,
 "nbformat_minor": 2
}
