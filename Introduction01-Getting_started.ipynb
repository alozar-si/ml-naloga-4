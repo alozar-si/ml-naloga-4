{
 "cells": [
  {
   "cell_type": "code",
   "execution_count": 1,
   "metadata": {},
   "outputs": [],
   "source": [
    "from scipy.integrate import ode\n",
    "import matplotlib.pyplot as plt\n",
    "import numpy as np\n",
    "import tensorflow as tf\n",
    "from tensorflow import keras\n",
    "from tensorflow.keras import layers, initializers\n",
    "from sklearn.preprocessing import MinMaxScaler\n",
    "from time import time\n",
    "from os import path"
   ]
  },
  {
   "cell_type": "code",
   "execution_count": 2,
   "metadata": {},
   "outputs": [
    {
     "data": {
      "text/plain": [
       "<scipy.integrate._ode.ode at 0x1cd8972fac8>"
      ]
     },
     "execution_count": 2,
     "metadata": {},
     "output_type": "execute_result"
    }
   ],
   "source": [
    "def lorenz(t, y, params):\n",
    "    \"\"\"\n",
    "    Diferencialne enacbe Lorentzovega modela\n",
    "    y = [x,y,z]\n",
    "    dy = [dx/dt, dy/dt, dz/dt]\n",
    "    params=[sigma,rho,beta]\n",
    "    \"\"\"\n",
    "    dy=np.zeros(3)\n",
    "    dy[0]=params[0]*(y[1]-y[0])\n",
    "    dy[1]=(params[1]-y[2])*y[0] - y[1]\n",
    "    dy[2]=y[0]*y[1] - params[2]*y[2]\n",
    "    return dy\n",
    "\n",
    "### Integracija Lorenzovega sistema v času ###\n",
    "\n",
    "# definiarmo vrenosti parametrov params=[sigma,rho,beta]\n",
    "params = [10., 28.,8./3.]\n",
    "\n",
    "#nastavimo zacetni cas na 0\n",
    "t = 0.\n",
    "#dolzina casovnega koraka\n",
    "dt=0.01\n",
    "\n",
    "#koncni cas integracije\n",
    "tmax=10000.\n",
    "\n",
    "#Dolocimo vrednosti spremenljivk x,y, ob casu 0;\n",
    "#nakljucne vrednosti so zrebane po enakomerni porazdelitvi\n",
    "y0_ATM = np.array([np.random.uniform(-20,20),np.random.uniform(-20,20),np.random.uniform(10,30)])\n",
    "\n",
    "# nasa njboljsa ocena trenutnega stanja ozracja ima napako\n",
    "c=0.2\n",
    "y0_MOD=y0_ATM + c*np.random.random(3)\n",
    "\n",
    "#nastavimo integrator\n",
    "solver_ATM=ode(lorenz).set_integrator('dopri5')\n",
    "solver_ATM.set_f_params(params)\n",
    "solver_ATM.set_initial_value(y0_ATM, t)\n",
    "\n",
    "solver_MOD=ode(lorenz).set_integrator('dopri5')\n",
    "solver_MOD.set_f_params(params)\n",
    "solver_MOD.set_initial_value(y0_ATM, t)"
   ]
  },
  {
   "cell_type": "code",
   "execution_count": 3,
   "metadata": {},
   "outputs": [
    {
     "name": "stdout",
     "output_type": "stream",
     "text": [
      "Data exist.\n",
      "Data loaded.\n"
     ]
    }
   ],
   "source": [
    "if(path.exists(\"data/data-2.npy\") != 1):\n",
    "    print(\"Generating data.\")\n",
    "    n = int(tmax/dt) + 1\n",
    "    data = np.zeros((n, 3))\n",
    "\n",
    "    i = 0\n",
    "    start = time()\n",
    "    while t < tmax:\n",
    "        y_ATM = solver_ATM.integrate(t+dt)\n",
    "        #y0_MOD = solver_MOD.integrate(t+dt)\n",
    "        data[i, :] = y_ATM[:]\n",
    "        i = i + 1\n",
    "        t += dt\n",
    "    print(\"Elasped time: %0.3g s\" %(time()-start))\n",
    "    data = data[1000:] # only use data from the attractor (after time = 10000 * dt)\n",
    "    print(\"Integration finished.\")\n",
    "    np.save(\"data/data-2.npy\", data)\n",
    "    \n",
    "else:\n",
    "    print(\"Data exist.\")\n",
    "    data = np.load(\"data/data-2.npy\")\n",
    "    print(\"Data loaded.\")"
   ]
  },
  {
   "cell_type": "code",
   "execution_count": 4,
   "metadata": {},
   "outputs": [],
   "source": [
    "#PREPROCESS DATA\n",
    "x_train = data[:-1,:]\n",
    "y_train = data[1:, :] - data[:-1, :]\n",
    "\n",
    "x_scaler=MinMaxScaler()\n",
    "y_scaler=MinMaxScaler()\n",
    "\n",
    "x_scaler.fit(x_train)\n",
    "y_scaler.fit(y_train)\n",
    "\n",
    "x_train_norm=x_scaler.transform(x_train)\n",
    "y_train_norm=y_scaler.transform(y_train)\n",
    "\n",
    "xy_train_norm=np.concatenate((x_train_norm,y_train_norm), axis=1)\n",
    "\n",
    "new_order=np.random.choice(range(x_train.shape[0]),x_train.shape[0],replace=False)\n",
    "x_train_norm=x_train_norm[new_order]\n",
    "y_train_norm=y_train_norm[new_order]"
   ]
  },
  {
   "cell_type": "code",
   "execution_count": null,
   "metadata": {},
   "outputs": [],
   "source": []
  },
  {
   "cell_type": "code",
   "execution_count": 62,
   "metadata": {},
   "outputs": [],
   "source": [
    "from tensorflow.keras.layers import Dense, Dropout\n",
    "# create a \"Sequential\" model and add a Dense layer as the first layer\n",
    "# ce nasa Loss ne vec pade se ustavi minimizacija\n",
    "callback = tf.keras.callbacks.EarlyStopping(monitor='val_loss', patience=20, verbose=0, mode='min')\n",
    "\n",
    "#initializer = \n",
    "#ce dosezemo plato zmanjsamo korak ucenja\n",
    "reduce_lr = tf.keras.callbacks.ReduceLROnPlateau(monitor='val_loss', factor=0.9, patience=5, min_lr=0.0001)\n",
    "\n",
    "model = tf.keras.models.Sequential()\n",
    "model.add(Dense(3, input_dim=3, activation='relu'))\n",
    "model.add(Dense(81, activation='relu'))\n",
    "#model.add(Dropout(0.2))\n",
    "model.add(Dense(81, activation='relu'))\n",
    "#model.add(Dropout(0.2))\n",
    "model.add(Dense(81, activation='relu'))\n",
    "#model.add(Dropout(0.2))\n",
    "model.add(Dense(81, activation='relu'))\n",
    "#model.add(Dropout(0.2))\n",
    "model.add(Dense(3, activation='sigmoid'))\n",
    "\n",
    "model.compile(loss='mean_absolute_error', optimizer='Adam', metrics=['mae'])"
   ]
  },
  {
   "cell_type": "code",
   "execution_count": null,
   "metadata": {},
   "outputs": [
    {
     "name": "stdout",
     "output_type": "stream",
     "text": [
      "Epoch 1/200\n",
      "781/781 [==============================] - 3s 3ms/step - loss: 0.0249 - mae: 0.0249 - val_loss: 0.0040 - val_mae: 0.0040\n",
      "Epoch 2/200\n",
      "781/781 [==============================] - 3s 3ms/step - loss: 0.0035 - mae: 0.0035 - val_loss: 0.0034 - val_mae: 0.0034\n",
      "Epoch 3/200\n",
      "781/781 [==============================] - 3s 3ms/step - loss: 0.0026 - mae: 0.0026 - val_loss: 0.0028 - val_mae: 0.0028\n",
      "Epoch 4/200\n",
      "781/781 [==============================] - 3s 4ms/step - loss: 0.0024 - mae: 0.0024 - val_loss: 0.0024 - val_mae: 0.0024\n",
      "Epoch 5/200\n",
      "781/781 [==============================] - 3s 4ms/step - loss: 0.0022 - mae: 0.0022 - val_loss: 0.0021 - val_mae: 0.0021\n",
      "Epoch 6/200\n",
      "781/781 [==============================] - 3s 3ms/step - loss: 0.0021 - mae: 0.0021 - val_loss: 0.0021 - val_mae: 0.0021\n",
      "Epoch 7/200\n",
      "781/781 [==============================] - 3s 4ms/step - loss: 0.0019 - mae: 0.0019 - val_loss: 0.0023 - val_mae: 0.0023\n",
      "Epoch 8/200\n",
      "781/781 [==============================] - 3s 3ms/step - loss: 0.0020 - mae: 0.0020 - val_loss: 0.0022 - val_mae: 0.0022\n",
      "Epoch 9/200\n",
      "781/781 [==============================] - 3s 4ms/step - loss: 0.0019 - mae: 0.0019 - val_loss: 0.0014 - val_mae: 0.0014\n",
      "Epoch 10/200\n",
      "781/781 [==============================] - 3s 4ms/step - loss: 0.0016 - mae: 0.0016 - val_loss: 0.0013 - val_mae: 0.0013\n",
      "Epoch 11/200\n",
      "781/781 [==============================] - 3s 3ms/step - loss: 0.0018 - mae: 0.0018 - val_loss: 0.0023 - val_mae: 0.0023\n",
      "Epoch 12/200\n",
      "781/781 [==============================] - 3s 3ms/step - loss: 0.0016 - mae: 0.0016 - val_loss: 0.0014 - val_mae: 0.0014\n",
      "Epoch 13/200\n",
      "781/781 [==============================] - 3s 4ms/step - loss: 0.0017 - mae: 0.0017 - val_loss: 0.0024 - val_mae: 0.0024\n",
      "Epoch 14/200\n",
      "781/781 [==============================] - 3s 3ms/step - loss: 0.0017 - mae: 0.0017 - val_loss: 0.0017 - val_mae: 0.0017\n",
      "Epoch 15/200\n",
      "781/781 [==============================] - 3s 3ms/step - loss: 0.0016 - mae: 0.0016 - val_loss: 0.0018 - val_mae: 0.0018\n",
      "Epoch 16/200\n",
      "781/781 [==============================] - 3s 3ms/step - loss: 0.0015 - mae: 0.0015 - val_loss: 0.0011 - val_mae: 0.0011\n",
      "Epoch 17/200\n",
      "781/781 [==============================] - 3s 3ms/step - loss: 0.0014 - mae: 0.0014 - val_loss: 0.0016 - val_mae: 0.0016\n",
      "Epoch 18/200\n",
      "781/781 [==============================] - 3s 3ms/step - loss: 0.0015 - mae: 0.0015 - val_loss: 0.0014 - val_mae: 0.0014\n",
      "Epoch 19/200\n",
      "781/781 [==============================] - 3s 4ms/step - loss: 0.0014 - mae: 0.0014 - val_loss: 0.0016 - val_mae: 0.0016\n",
      "Epoch 20/200\n",
      "781/781 [==============================] - 3s 4ms/step - loss: 0.0013 - mae: 0.0013 - val_loss: 0.0014 - val_mae: 0.0014\n",
      "Epoch 21/200\n",
      "781/781 [==============================] - 3s 4ms/step - loss: 0.0015 - mae: 0.0015 - val_loss: 0.0014 - val_mae: 0.0014\n",
      "Epoch 22/200\n",
      "781/781 [==============================] - 3s 3ms/step - loss: 0.0013 - mae: 0.0013 - val_loss: 9.0598e-04 - val_mae: 9.0598e-04\n",
      "Epoch 23/200\n",
      "781/781 [==============================] - 3s 3ms/step - loss: 0.0012 - mae: 0.0012 - val_loss: 0.0016 - val_mae: 0.0016\n",
      "Epoch 24/200\n",
      "781/781 [==============================] - 3s 4ms/step - loss: 0.0013 - mae: 0.0013 - val_loss: 0.0014 - val_mae: 0.0014\n",
      "Epoch 25/200\n",
      "781/781 [==============================] - 3s 3ms/step - loss: 0.0013 - mae: 0.0013 - val_loss: 9.3095e-04 - val_mae: 9.3095e-04\n",
      "Epoch 26/200\n",
      "781/781 [==============================] - 3s 3ms/step - loss: 0.0012 - mae: 0.0012 - val_loss: 0.0012 - val_mae: 0.0012\n",
      "Epoch 27/200\n",
      "781/781 [==============================] - 3s 3ms/step - loss: 0.0013 - mae: 0.0013 - val_loss: 0.0012 - val_mae: 0.0012\n",
      "Epoch 28/200\n",
      "781/781 [==============================] - 3s 3ms/step - loss: 0.0010 - mae: 0.0010 - val_loss: 0.0013 - val_mae: 0.0013\n",
      "Epoch 29/200\n",
      "781/781 [==============================] - 3s 3ms/step - loss: 0.0012 - mae: 0.0012 - val_loss: 0.0012 - val_mae: 0.0012\n",
      "Epoch 30/200\n",
      "781/781 [==============================] - 3s 3ms/step - loss: 0.0012 - mae: 0.0012 - val_loss: 0.0013 - val_mae: 0.0013\n",
      "Epoch 31/200\n",
      "781/781 [==============================] - 3s 3ms/step - loss: 9.5499e-04 - mae: 9.5499e-04 - val_loss: 0.0013 - val_mae: 0.0013\n",
      "Epoch 32/200\n",
      "781/781 [==============================] - 3s 3ms/step - loss: 0.0011 - mae: 0.0011 - val_loss: 0.0013 - val_mae: 0.0013\n",
      "Epoch 33/200\n",
      "781/781 [==============================] - 3s 4ms/step - loss: 0.0011 - mae: 0.0011 - val_loss: 0.0011 - val_mae: 0.0011\n",
      "Epoch 34/200\n",
      "781/781 [==============================] - 3s 4ms/step - loss: 9.6637e-04 - mae: 9.6637e-04 - val_loss: 0.0013 - val_mae: 0.0013\n",
      "Epoch 35/200\n",
      "781/781 [==============================] - 3s 4ms/step - loss: 0.0011 - mae: 0.0011 - val_loss: 0.0013 - val_mae: 0.0013\n",
      "Epoch 36/200\n",
      "781/781 [==============================] - 3s 4ms/step - loss: 9.9313e-04 - mae: 9.9313e-04 - val_loss: 0.0012 - val_mae: 0.0012\n",
      "Epoch 37/200\n",
      "781/781 [==============================] - 3s 4ms/step - loss: 0.0011 - mae: 0.0011 - val_loss: 0.0012 - val_mae: 0.0012\n",
      "Epoch 38/200\n",
      "781/781 [==============================] - 3s 4ms/step - loss: 0.0010 - mae: 0.0010 - val_loss: 8.5634e-04 - val_mae: 8.5634e-04\n",
      "Epoch 39/200\n",
      "781/781 [==============================] - 3s 4ms/step - loss: 8.3748e-04 - mae: 8.3748e-04 - val_loss: 8.0726e-04 - val_mae: 8.0726e-04\n",
      "Epoch 40/200\n",
      "781/781 [==============================] - 3s 3ms/step - loss: 9.4168e-04 - mae: 9.4168e-04 - val_loss: 0.0014 - val_mae: 0.0014\n",
      "Epoch 41/200\n",
      "781/781 [==============================] - 3s 3ms/step - loss: 0.0010 - mae: 0.0010 - val_loss: 0.0011 - val_mae: 0.0011\n",
      "Epoch 42/200\n",
      "781/781 [==============================] - 3s 4ms/step - loss: 9.1481e-04 - mae: 9.1481e-04 - val_loss: 0.0013 - val_mae: 0.0013\n",
      "Epoch 43/200\n",
      "781/781 [==============================] - 3s 4ms/step - loss: 8.7316e-04 - mae: 8.7316e-04 - val_loss: 0.0011 - val_mae: 0.0011\n",
      "Epoch 44/200\n",
      "781/781 [==============================] - 3s 4ms/step - loss: 9.0467e-04 - mae: 9.0467e-04 - val_loss: 9.5617e-04 - val_mae: 9.5617e-04\n",
      "Epoch 45/200\n",
      "781/781 [==============================] - 3s 4ms/step - loss: 0.0010 - mae: 0.0010 - val_loss: 0.0010 - val_mae: 0.0010\n",
      "Epoch 46/200\n",
      "781/781 [==============================] - 3s 4ms/step - loss: 8.9726e-04 - mae: 8.9726e-04 - val_loss: 7.1525e-04 - val_mae: 7.1525e-04\n",
      "Epoch 47/200\n",
      "781/781 [==============================] - 3s 4ms/step - loss: 9.2478e-04 - mae: 9.2478e-04 - val_loss: 0.0011 - val_mae: 0.0011\n",
      "Epoch 48/200\n",
      "781/781 [==============================] - 3s 4ms/step - loss: 8.1638e-04 - mae: 8.1638e-04 - val_loss: 8.5331e-04 - val_mae: 8.5331e-04\n",
      "Epoch 49/200\n",
      "781/781 [==============================] - 3s 4ms/step - loss: 8.8117e-04 - mae: 8.8117e-04 - val_loss: 9.9504e-04 - val_mae: 9.9504e-04\n",
      "Epoch 50/200\n",
      "781/781 [==============================] - 3s 4ms/step - loss: 9.7781e-04 - mae: 9.7781e-04 - val_loss: 9.2122e-04 - val_mae: 9.2122e-04\n",
      "Epoch 51/200\n",
      "781/781 [==============================] - 3s 4ms/step - loss: 9.3872e-04 - mae: 9.3872e-04 - val_loss: 8.0328e-04 - val_mae: 8.0328e-04\n",
      "Epoch 52/200\n",
      "781/781 [==============================] - 3s 4ms/step - loss: 7.4075e-04 - mae: 7.4075e-04 - val_loss: 7.0760e-04 - val_mae: 7.0760e-04\n",
      "Epoch 53/200\n",
      "781/781 [==============================] - 3s 4ms/step - loss: 9.0103e-04 - mae: 9.0103e-04 - val_loss: 6.6489e-04 - val_mae: 6.6489e-04\n",
      "Epoch 54/200\n",
      "781/781 [==============================] - 3s 4ms/step - loss: 7.3227e-04 - mae: 7.3227e-04 - val_loss: 6.8125e-04 - val_mae: 6.8125e-04\n",
      "Epoch 55/200\n",
      "781/781 [==============================] - 3s 4ms/step - loss: 9.4088e-04 - mae: 9.4088e-04 - val_loss: 8.6378e-04 - val_mae: 8.6378e-04\n",
      "Epoch 56/200\n",
      "781/781 [==============================] - 3s 4ms/step - loss: 8.8734e-04 - mae: 8.8734e-04 - val_loss: 8.5331e-04 - val_mae: 8.5331e-04\n",
      "Epoch 57/200\n",
      "781/781 [==============================] - 3s 4ms/step - loss: 7.0635e-04 - mae: 7.0635e-04 - val_loss: 6.6816e-04 - val_mae: 6.6816e-04\n",
      "Epoch 58/200\n",
      "781/781 [==============================] - 3s 4ms/step - loss: 7.8465e-04 - mae: 7.8465e-04 - val_loss: 0.0010 - val_mae: 0.0010\n",
      "Epoch 59/200\n",
      "781/781 [==============================] - 3s 4ms/step - loss: 7.6917e-04 - mae: 7.6917e-04 - val_loss: 6.5445e-04 - val_mae: 6.5445e-04\n"
     ]
    },
    {
     "name": "stdout",
     "output_type": "stream",
     "text": [
      "Epoch 60/200\n",
      "781/781 [==============================] - 3s 4ms/step - loss: 7.5320e-04 - mae: 7.5320e-04 - val_loss: 0.0012 - val_mae: 0.0012\n",
      "Epoch 61/200\n",
      "781/781 [==============================] - 3s 4ms/step - loss: 8.8471e-04 - mae: 8.8471e-04 - val_loss: 8.7027e-04 - val_mae: 8.7027e-04\n",
      "Epoch 62/200\n",
      "781/781 [==============================] - 3s 4ms/step - loss: 7.8762e-04 - mae: 7.8762e-04 - val_loss: 7.4376e-04 - val_mae: 7.4376e-04\n",
      "Epoch 63/200\n",
      "781/781 [==============================] - 3s 4ms/step - loss: 6.7483e-04 - mae: 6.7483e-04 - val_loss: 6.6530e-04 - val_mae: 6.6530e-04\n",
      "Epoch 64/200\n",
      "781/781 [==============================] - 3s 4ms/step - loss: 7.7370e-04 - mae: 7.7370e-04 - val_loss: 8.2760e-04 - val_mae: 8.2760e-04\n",
      "Epoch 65/200\n",
      "781/781 [==============================] - 3s 4ms/step - loss: 8.1087e-04 - mae: 8.1087e-04 - val_loss: 8.2912e-04 - val_mae: 8.2912e-04\n",
      "Epoch 66/200\n",
      "781/781 [==============================] - 3s 4ms/step - loss: 6.5611e-04 - mae: 6.5611e-04 - val_loss: 6.2155e-04 - val_mae: 6.2155e-04\n",
      "Epoch 67/200\n",
      "781/781 [==============================] - 3s 4ms/step - loss: 6.5068e-04 - mae: 6.5068e-04 - val_loss: 7.3480e-04 - val_mae: 7.3480e-04\n",
      "Epoch 68/200\n",
      "781/781 [==============================] - 3s 4ms/step - loss: 8.0630e-04 - mae: 8.0630e-04 - val_loss: 6.1991e-04 - val_mae: 6.1991e-04\n",
      "Epoch 69/200\n",
      "781/781 [==============================] - 3s 4ms/step - loss: 6.9846e-04 - mae: 6.9846e-04 - val_loss: 7.8199e-04 - val_mae: 7.8199e-04\n",
      "Epoch 70/200\n",
      "781/781 [==============================] - 3s 4ms/step - loss: 7.6315e-04 - mae: 7.6315e-04 - val_loss: 6.0769e-04 - val_mae: 6.0769e-04\n",
      "Epoch 71/200\n",
      "781/781 [==============================] - 3s 4ms/step - loss: 6.1969e-04 - mae: 6.1969e-04 - val_loss: 6.1764e-04 - val_mae: 6.1764e-04\n",
      "Epoch 72/200\n",
      "781/781 [==============================] - 3s 4ms/step - loss: 7.5490e-04 - mae: 7.5490e-04 - val_loss: 7.9879e-04 - val_mae: 7.9879e-04\n",
      "Epoch 73/200\n",
      "781/781 [==============================] - 3s 4ms/step - loss: 6.9860e-04 - mae: 6.9860e-04 - val_loss: 6.0485e-04 - val_mae: 6.0485e-04\n",
      "Epoch 74/200\n",
      "781/781 [==============================] - 3s 4ms/step - loss: 6.7187e-04 - mae: 6.7187e-04 - val_loss: 5.9600e-04 - val_mae: 5.9600e-04\n",
      "Epoch 75/200\n",
      "735/781 [===========================>..] - ETA: 0s - loss: 7.5247e-04 - mae: 7.5247e-04"
     ]
    }
   ],
   "source": [
    "# Train model on data\n",
    "start=time()\n",
    "history = model.fit(x_train_norm, y_train_norm, epochs=200, batch_size=1024,validation_split=0.2,\n",
    "                    callbacks=[callback,reduce_lr])\n",
    "print(\"Elasped time: %0.3g s\" %(time()-start))\n",
    "print(model.summary())"
   ]
  },
  {
   "cell_type": "code",
   "execution_count": 18,
   "metadata": {},
   "outputs": [
    {
     "data": {
      "text/plain": [
       "999000"
      ]
     },
     "execution_count": 18,
     "metadata": {},
     "output_type": "execute_result"
    }
   ],
   "source": [
    "len(x_train_norm)"
   ]
  },
  {
   "cell_type": "code",
   "execution_count": 14,
   "metadata": {},
   "outputs": [],
   "source": [
    "from utils import moving_average"
   ]
  },
  {
   "cell_type": "code",
   "execution_count": 15,
   "metadata": {},
   "outputs": [
    {
     "data": {
      "image/png": "[encoded data removed]",
      "text/plain": [
       "<Figure size 504x360 with 1 Axes>"
      ]
     },
     "metadata": {
      "needs_background": "light"
     },
     "output_type": "display_data"
    }
   ],
   "source": [
    "plt.figure(figsize=(7,5))\n",
    "plt.plot(history.history['loss'])\n",
    "plt.yscale('log')"
   ]
  },
  {
   "cell_type": "code",
   "execution_count": 36,
   "metadata": {},
   "outputs": [
    {
     "name": "stdout",
     "output_type": "stream",
     "text": [
      "Calculating...\n",
      "Finished in 29.4\n"
     ]
    }
   ],
   "source": [
    "# Integriramo\n",
    "tmax = 10\n",
    "n = int(tmax/dt)+1\n",
    "data_lorenz_NN = np.zeros((n,3))\n",
    "data_lorenz_IN = np.zeros((n,3))\n",
    "\n",
    "# define new IC\n",
    "t=0\n",
    "i=0\n",
    "\n",
    "#izberemo zacetni pogoj nekje na atraktorju\n",
    "y0=data[int(np.random.uniform(1000,data.shape[0]))]\n",
    "\n",
    "#definiramo parametre Lorenzovega modela\n",
    "params = [10., 28., 8./3.]\n",
    "\n",
    "# definiramo ODE solver\n",
    "solver_ATM = ode(lorenz).set_integrator('dopri5')\n",
    "solver_ATM.set_f_params(params)\n",
    "solver_ATM.set_initial_value(y0_ATM, t)\n",
    "solver_ATM.set_initial_value(y0, t)\n",
    "\n",
    "data_lorenz_IN[0, :]= y0\n",
    "data_lorenz_NN[0, :]= y0\n",
    "\n",
    "i=1\n",
    "t=dt\n",
    "\n",
    "print(\"Calculating...\")\n",
    "start = time()\n",
    "while t < tmax:      \n",
    "    y_ATM = solver_ATM.integrate(t+dt)\n",
    "    data_lorenz_IN[i,:] = y_ATM[:]\n",
    "    \n",
    "    norm_input=x_scaler.transform(np.array([data_lorenz_NN[i-1,:]]))\n",
    "    norm_output=model.predict(norm_input)\n",
    "    \n",
    "    add=y_scaler.inverse_transform(norm_output)\n",
    "    data_lorenz_NN[i,:]=add[0] + data_lorenz_NN[i-1,:]\n",
    "    \n",
    "    i = i + 1\n",
    "    t = t+dt\n",
    "print(\"Finished in %.3g\" %(time()-start))"
   ]
  },
  {
   "cell_type": "code",
   "execution_count": 56,
   "metadata": {},
   "outputs": [
    {
     "data": {
      "text/plain": [
       "array([ 1.1581981 ,  0.0447786 , 21.22847328])"
      ]
     },
     "execution_count": 56,
     "metadata": {},
     "output_type": "execute_result"
    }
   ],
   "source": [
    "data_lorenz_IN[0, :]"
   ]
  },
  {
   "cell_type": "code",
   "execution_count": 61,
   "metadata": {},
   "outputs": [
    {
     "data": {
      "image/png": "[encoded data removed]",
      "text/plain": [
       "<Figure size 504x360 with 1 Axes>"
      ]
     },
     "metadata": {
      "needs_background": "light"
     },
     "output_type": "display_data"
    }
   ],
   "source": [
    "idx=0\n",
    "plt.figure(figsize=(7,5))\n",
    "plt.plot(np.arange(0, tmax+dt,dt), data_lorenz_NN[:,idx], label='NN')\n",
    "plt.plot(np.arange(0, tmax+dt,dt), data_lorenz_IN[:,idx], label='IN')\n",
    "plt.legend()\n",
    "plt.ylabel(\"Prediction\")\n",
    "plt.xlabel(\"Time [s]\")\n",
    "plt.ylim(min(data_lorenz_IN[:, idx]) - 5, max(data_lorenz_IN[:, idx]) * 1.5)\n",
    "plt.show()"
   ]
  },
  {
   "cell_type": "code",
   "execution_count": 13,
   "metadata": {},
   "outputs": [
    {
     "data": {
      "text/plain": [
       "\"plt.figure(figsize=(7.5, 4.5))\\nplt.plot(history.history['loss'], label='train',alpha=0.2)\\nplt.plot(moving_average(history.history['loss'], 40)[1], label='train, ma=40')\\nplt.plot(history.history['val_loss'], label='val')\\nplt.plot(moving_average(history.history['val_loss'], 40)[1], label='val, ma=40')\\nplt.xlabel('epoch')\\nplt.ylabel('Loss')\\nplt.legend()\\nplt.tight_layout()\\n#plt.ylim([0, 0.005])\\nplt.yscale('log')\\nplt.show()\""
      ]
     },
     "execution_count": 13,
     "metadata": {},
     "output_type": "execute_result"
    }
   ],
   "source": [
    "\"\"\"plt.figure(figsize=(7.5, 4.5))\n",
    "plt.plot(history.history['loss'], label='train',alpha=0.2)\n",
    "plt.plot(moving_average(history.history['loss'], 40)[1], label='train, ma=40')\n",
    "plt.plot(history.history['val_loss'], label='val')\n",
    "plt.plot(moving_average(history.history['val_loss'], 40)[1], label='val, ma=40')\n",
    "plt.xlabel('epoch')\n",
    "plt.ylabel('Loss')\n",
    "plt.legend()\n",
    "plt.tight_layout()\n",
    "#plt.ylim([0, 0.005])\n",
    "plt.yscale('log')\n",
    "plt.show()\"\"\""
   ]
  }
 ],
 "metadata": {
  "kernelspec": {
   "display_name": "Python 3",
   "language": "python",
   "name": "python3"
  },
  "language_info": {
   "codemirror_mode": {
    "name": "ipython",
    "version": 3
   },
   "file_extension": ".py",
   "mimetype": "text/x-python",
   "name": "python",
   "nbconvert_exporter": "python",
   "pygments_lexer": "ipython3",
   "version": "3.7.4"
  }
 },
 "nbformat": 4,
 "nbformat_minor": 2
}
